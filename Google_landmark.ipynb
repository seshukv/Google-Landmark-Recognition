{
 "cells": [
  {
   "cell_type": "markdown",
   "id": "1b5dd771",
   "metadata": {},
   "source": [
    "<h1>Google Landmark Recognition Project<h1>"
   ]
  },
  {
   "cell_type": "code",
   "execution_count": 1,
   "id": "ed5d3804",
   "metadata": {},
   "outputs": [],
   "source": [
    "#importing neccessary packages\n",
    "import numpy as np\n",
    "import pandas as pd\n",
    "import matplotlib.pyplot as plt\n",
    "import cv2\n",
    "from tensorflow.keras import datasets, layers, models\n",
    "from keras.layers import Conv2D, MaxPooling2D\n",
    "from keras.layers import Activation, Dropout, Flatten, Dense\n",
    "from keras.preprocessing.image import ImageDataGenerator\n",
    "from tensorflow.keras.utils import array_to_img, img_to_array, load_img\n",
    "from tensorflow.keras.models import Sequential\n",
    "from tensorflow.keras import layers\n",
    "from sklearn.utils import class_weight"
   ]
  },
  {
   "cell_type": "markdown",
   "id": "60c0393c",
   "metadata": {},
   "source": [
    "<h2>1. Exploratory Analysis<h2>"
   ]
  },
  {
   "cell_type": "code",
   "execution_count": 2,
   "id": "96a3ae32",
   "metadata": {},
   "outputs": [],
   "source": [
    "#importing the dataset with classes and id\n",
    "classes = pd.read_csv(\"/Users/seshu/Desktop/CPSC/train.csv\")"
   ]
  },
  {
   "cell_type": "code",
   "execution_count": 3,
   "id": "2ed7a5e4",
   "metadata": {},
   "outputs": [
    {
     "data": {
      "text/html": [
       "<div>\n",
       "<style scoped>\n",
       "    .dataframe tbody tr th:only-of-type {\n",
       "        vertical-align: middle;\n",
       "    }\n",
       "\n",
       "    .dataframe tbody tr th {\n",
       "        vertical-align: top;\n",
       "    }\n",
       "\n",
       "    .dataframe thead th {\n",
       "        text-align: right;\n",
       "    }\n",
       "</style>\n",
       "<table border=\"1\" class=\"dataframe\">\n",
       "  <thead>\n",
       "    <tr style=\"text-align: right;\">\n",
       "      <th></th>\n",
       "      <th>id</th>\n",
       "      <th>landmark_id</th>\n",
       "    </tr>\n",
       "  </thead>\n",
       "  <tbody>\n",
       "    <tr>\n",
       "      <th>0</th>\n",
       "      <td>17660ef415d37059</td>\n",
       "      <td>1</td>\n",
       "    </tr>\n",
       "    <tr>\n",
       "      <th>1</th>\n",
       "      <td>92b6290d571448f6</td>\n",
       "      <td>1</td>\n",
       "    </tr>\n",
       "    <tr>\n",
       "      <th>2</th>\n",
       "      <td>cd41bf948edc0340</td>\n",
       "      <td>1</td>\n",
       "    </tr>\n",
       "    <tr>\n",
       "      <th>3</th>\n",
       "      <td>fb09f1e98c6d2f70</td>\n",
       "      <td>1</td>\n",
       "    </tr>\n",
       "    <tr>\n",
       "      <th>4</th>\n",
       "      <td>25c9dfc7ea69838d</td>\n",
       "      <td>7</td>\n",
       "    </tr>\n",
       "  </tbody>\n",
       "</table>\n",
       "</div>"
      ],
      "text/plain": [
       "                 id  landmark_id\n",
       "0  17660ef415d37059            1\n",
       "1  92b6290d571448f6            1\n",
       "2  cd41bf948edc0340            1\n",
       "3  fb09f1e98c6d2f70            1\n",
       "4  25c9dfc7ea69838d            7"
      ]
     },
     "execution_count": 3,
     "metadata": {},
     "output_type": "execute_result"
    }
   ],
   "source": [
    "#dataset head\n",
    "classes.head()"
   ]
  },
  {
   "cell_type": "code",
   "execution_count": 4,
   "id": "31a659c3",
   "metadata": {},
   "outputs": [
    {
     "data": {
      "text/plain": [
       "(1580470, 2)"
      ]
     },
     "execution_count": 4,
     "metadata": {},
     "output_type": "execute_result"
    }
   ],
   "source": [
    "#dimensions of the dataset\n",
    "classes.shape"
   ]
  },
  {
   "cell_type": "code",
   "execution_count": 5,
   "id": "b5c2e295",
   "metadata": {},
   "outputs": [
    {
     "data": {
      "text/plain": [
       "81313"
      ]
     },
     "execution_count": 5,
     "metadata": {},
     "output_type": "execute_result"
    }
   ],
   "source": [
    "#number of classes/landmarks\n",
    "len(pd.unique(classes['landmark_id']))"
   ]
  },
  {
   "cell_type": "code",
   "execution_count": 6,
   "id": "8281a57a",
   "metadata": {},
   "outputs": [
    {
     "data": {
      "text/plain": [
       "138982"
      ]
     },
     "execution_count": 6,
     "metadata": {},
     "output_type": "execute_result"
    }
   ],
   "source": [
    "#label with maximum images\n",
    "classes['landmark_id'].value_counts().idxmax()"
   ]
  },
  {
   "cell_type": "markdown",
   "id": "1a4fc162",
   "metadata": {},
   "source": [
    "<h2>2. Pre-processing and exploratory analysis<h2>"
   ]
  },
  {
   "cell_type": "code",
   "execution_count": 7,
   "id": "06d21a9a",
   "metadata": {},
   "outputs": [],
   "source": [
    "#grouping classes and printing corresponding image count\n",
    "classes_cnt = classes['landmark_id'].value_counts().sort_values(ascending=False)\n",
    "classes_df = pd.DataFrame({'Label id':classes_cnt.index, 'Images':classes_cnt.values})"
   ]
  },
  {
   "cell_type": "code",
   "execution_count": 8,
   "id": "5fe349f3",
   "metadata": {},
   "outputs": [
    {
     "data": {
      "text/html": [
       "<div>\n",
       "<style scoped>\n",
       "    .dataframe tbody tr th:only-of-type {\n",
       "        vertical-align: middle;\n",
       "    }\n",
       "\n",
       "    .dataframe tbody tr th {\n",
       "        vertical-align: top;\n",
       "    }\n",
       "\n",
       "    .dataframe thead th {\n",
       "        text-align: right;\n",
       "    }\n",
       "</style>\n",
       "<table border=\"1\" class=\"dataframe\">\n",
       "  <thead>\n",
       "    <tr style=\"text-align: right;\">\n",
       "      <th></th>\n",
       "      <th>Label id</th>\n",
       "      <th>Images</th>\n",
       "    </tr>\n",
       "  </thead>\n",
       "  <tbody>\n",
       "    <tr>\n",
       "      <th>0</th>\n",
       "      <td>138982</td>\n",
       "      <td>6272</td>\n",
       "    </tr>\n",
       "    <tr>\n",
       "      <th>1</th>\n",
       "      <td>126637</td>\n",
       "      <td>2231</td>\n",
       "    </tr>\n",
       "    <tr>\n",
       "      <th>2</th>\n",
       "      <td>20409</td>\n",
       "      <td>1758</td>\n",
       "    </tr>\n",
       "    <tr>\n",
       "      <th>3</th>\n",
       "      <td>83144</td>\n",
       "      <td>1741</td>\n",
       "    </tr>\n",
       "    <tr>\n",
       "      <th>4</th>\n",
       "      <td>113209</td>\n",
       "      <td>1135</td>\n",
       "    </tr>\n",
       "    <tr>\n",
       "      <th>...</th>\n",
       "      <td>...</td>\n",
       "      <td>...</td>\n",
       "    </tr>\n",
       "    <tr>\n",
       "      <th>81308</th>\n",
       "      <td>72967</td>\n",
       "      <td>2</td>\n",
       "    </tr>\n",
       "    <tr>\n",
       "      <th>81309</th>\n",
       "      <td>143694</td>\n",
       "      <td>2</td>\n",
       "    </tr>\n",
       "    <tr>\n",
       "      <th>81310</th>\n",
       "      <td>24793</td>\n",
       "      <td>2</td>\n",
       "    </tr>\n",
       "    <tr>\n",
       "      <th>81311</th>\n",
       "      <td>143896</td>\n",
       "      <td>2</td>\n",
       "    </tr>\n",
       "    <tr>\n",
       "      <th>81312</th>\n",
       "      <td>111405</td>\n",
       "      <td>2</td>\n",
       "    </tr>\n",
       "  </tbody>\n",
       "</table>\n",
       "<p>81313 rows × 2 columns</p>\n",
       "</div>"
      ],
      "text/plain": [
       "       Label id  Images\n",
       "0        138982    6272\n",
       "1        126637    2231\n",
       "2         20409    1758\n",
       "3         83144    1741\n",
       "4        113209    1135\n",
       "...         ...     ...\n",
       "81308     72967       2\n",
       "81309    143694       2\n",
       "81310     24793       2\n",
       "81311    143896       2\n",
       "81312    111405       2\n",
       "\n",
       "[81313 rows x 2 columns]"
      ]
     },
     "execution_count": 8,
     "metadata": {},
     "output_type": "execute_result"
    }
   ],
   "source": [
    "#viewing the dataset\n",
    "classes_df"
   ]
  },
  {
   "cell_type": "code",
   "execution_count": 9,
   "id": "59f9a55b",
   "metadata": {},
   "outputs": [
    {
     "data": {
      "text/html": [
       "<div>\n",
       "<style scoped>\n",
       "    .dataframe tbody tr th:only-of-type {\n",
       "        vertical-align: middle;\n",
       "    }\n",
       "\n",
       "    .dataframe tbody tr th {\n",
       "        vertical-align: top;\n",
       "    }\n",
       "\n",
       "    .dataframe thead th {\n",
       "        text-align: right;\n",
       "    }\n",
       "</style>\n",
       "<table border=\"1\" class=\"dataframe\">\n",
       "  <thead>\n",
       "    <tr style=\"text-align: right;\">\n",
       "      <th></th>\n",
       "      <th>Label id</th>\n",
       "      <th>Images</th>\n",
       "    </tr>\n",
       "  </thead>\n",
       "  <tbody>\n",
       "    <tr>\n",
       "      <th>count</th>\n",
       "      <td>81313.000000</td>\n",
       "      <td>81313.000000</td>\n",
       "    </tr>\n",
       "    <tr>\n",
       "      <th>mean</th>\n",
       "      <td>101291.902070</td>\n",
       "      <td>19.436867</td>\n",
       "    </tr>\n",
       "    <tr>\n",
       "      <th>std</th>\n",
       "      <td>58740.916419</td>\n",
       "      <td>42.877489</td>\n",
       "    </tr>\n",
       "    <tr>\n",
       "      <th>min</th>\n",
       "      <td>1.000000</td>\n",
       "      <td>2.000000</td>\n",
       "    </tr>\n",
       "    <tr>\n",
       "      <th>25%</th>\n",
       "      <td>50237.000000</td>\n",
       "      <td>5.000000</td>\n",
       "    </tr>\n",
       "    <tr>\n",
       "      <th>50%</th>\n",
       "      <td>101073.000000</td>\n",
       "      <td>9.000000</td>\n",
       "    </tr>\n",
       "    <tr>\n",
       "      <th>75%</th>\n",
       "      <td>152146.000000</td>\n",
       "      <td>20.000000</td>\n",
       "    </tr>\n",
       "    <tr>\n",
       "      <th>max</th>\n",
       "      <td>203092.000000</td>\n",
       "      <td>6272.000000</td>\n",
       "    </tr>\n",
       "  </tbody>\n",
       "</table>\n",
       "</div>"
      ],
      "text/plain": [
       "            Label id        Images\n",
       "count   81313.000000  81313.000000\n",
       "mean   101291.902070     19.436867\n",
       "std     58740.916419     42.877489\n",
       "min         1.000000      2.000000\n",
       "25%     50237.000000      5.000000\n",
       "50%    101073.000000      9.000000\n",
       "75%    152146.000000     20.000000\n",
       "max    203092.000000   6272.000000"
      ]
     },
     "execution_count": 9,
     "metadata": {},
     "output_type": "execute_result"
    }
   ],
   "source": [
    "#summary of the dataset\n",
    "classes_df.describe()"
   ]
  },
  {
   "cell_type": "code",
   "execution_count": 10,
   "id": "a9253570",
   "metadata": {},
   "outputs": [
    {
     "data": {
      "text/plain": [
       "4"
      ]
     },
     "execution_count": 10,
     "metadata": {},
     "output_type": "execute_result"
    }
   ],
   "source": [
    "#Most common image count among the classes\n",
    "classes_df['Images'].value_counts().idxmax()"
   ]
  },
  {
   "cell_type": "code",
   "execution_count": 11,
   "id": "00158e4f",
   "metadata": {},
   "outputs": [
    {
     "data": {
      "text/plain": [
       "6272"
      ]
     },
     "execution_count": 11,
     "metadata": {},
     "output_type": "execute_result"
    }
   ],
   "source": [
    "#max count of images in a class\n",
    "classes_df['Images'].max()"
   ]
  },
  {
   "cell_type": "code",
   "execution_count": 12,
   "id": "0b6c6d23",
   "metadata": {},
   "outputs": [
    {
     "data": {
      "text/plain": [
       "430"
      ]
     },
     "execution_count": 12,
     "metadata": {},
     "output_type": "execute_result"
    }
   ],
   "source": [
    "#number of unique values in images column\n",
    "len(pd.unique(classes_df['Images']))"
   ]
  },
  {
   "cell_type": "code",
   "execution_count": 13,
   "id": "3cf92027",
   "metadata": {},
   "outputs": [
    {
     "data": {
      "text/plain": [
       "8306"
      ]
     },
     "execution_count": 13,
     "metadata": {},
     "output_type": "execute_result"
    }
   ],
   "source": [
    "#number of classes with count of images equal to 4\n",
    "len(classes_df[classes_df['Images']==4])"
   ]
  },
  {
   "cell_type": "code",
   "execution_count": 18,
   "id": "c85668ee",
   "metadata": {},
   "outputs": [
    {
     "data": {
      "text/plain": [
       "659749"
      ]
     },
     "execution_count": 18,
     "metadata": {},
     "output_type": "execute_result"
    }
   ],
   "source": [
    "#count of images with images greater than 30\n",
    "classes_df[classes_df['Images']<30]['Images'].sum()"
   ]
  },
  {
   "cell_type": "code",
   "execution_count": 17,
   "id": "6178c6e4",
   "metadata": {},
   "outputs": [
    {
     "data": {
      "text/plain": [
       "12480"
      ]
     },
     "execution_count": 17,
     "metadata": {},
     "output_type": "execute_result"
    }
   ],
   "source": [
    "#classes with images greater than 30\n",
    "classes_df[classes_df['Images']>30]['Label id'].count()"
   ]
  },
  {
   "cell_type": "markdown",
   "id": "2ad66239",
   "metadata": {},
   "source": [
    "<h2>3. Undersampling the dataset<h2>"
   ]
  },
  {
   "cell_type": "code",
   "execution_count": 19,
   "id": "2ca4acd4",
   "metadata": {},
   "outputs": [],
   "source": [
    "#labels of classes with images greater than 30\n",
    "df_thirty = classes_df[classes_df['Images']>30]['Label id']\n",
    "df_thirty = pd.DataFrame(df_thirty)"
   ]
  },
  {
   "cell_type": "code",
   "execution_count": 49,
   "id": "da52a3b5",
   "metadata": {},
   "outputs": [
    {
     "data": {
      "text/html": [
       "<div>\n",
       "<style scoped>\n",
       "    .dataframe tbody tr th:only-of-type {\n",
       "        vertical-align: middle;\n",
       "    }\n",
       "\n",
       "    .dataframe tbody tr th {\n",
       "        vertical-align: top;\n",
       "    }\n",
       "\n",
       "    .dataframe thead th {\n",
       "        text-align: right;\n",
       "    }\n",
       "</style>\n",
       "<table border=\"1\" class=\"dataframe\">\n",
       "  <thead>\n",
       "    <tr style=\"text-align: right;\">\n",
       "      <th></th>\n",
       "      <th>Label id</th>\n",
       "    </tr>\n",
       "  </thead>\n",
       "  <tbody>\n",
       "    <tr>\n",
       "      <th>0</th>\n",
       "      <td>138982</td>\n",
       "    </tr>\n",
       "    <tr>\n",
       "      <th>1</th>\n",
       "      <td>126637</td>\n",
       "    </tr>\n",
       "    <tr>\n",
       "      <th>2</th>\n",
       "      <td>20409</td>\n",
       "    </tr>\n",
       "    <tr>\n",
       "      <th>3</th>\n",
       "      <td>83144</td>\n",
       "    </tr>\n",
       "    <tr>\n",
       "      <th>4</th>\n",
       "      <td>113209</td>\n",
       "    </tr>\n",
       "    <tr>\n",
       "      <th>...</th>\n",
       "      <td>...</td>\n",
       "    </tr>\n",
       "    <tr>\n",
       "      <th>12475</th>\n",
       "      <td>159925</td>\n",
       "    </tr>\n",
       "    <tr>\n",
       "      <th>12476</th>\n",
       "      <td>159814</td>\n",
       "    </tr>\n",
       "    <tr>\n",
       "      <th>12477</th>\n",
       "      <td>116213</td>\n",
       "    </tr>\n",
       "    <tr>\n",
       "      <th>12478</th>\n",
       "      <td>47471</td>\n",
       "    </tr>\n",
       "    <tr>\n",
       "      <th>12479</th>\n",
       "      <td>69852</td>\n",
       "    </tr>\n",
       "  </tbody>\n",
       "</table>\n",
       "<p>12480 rows × 1 columns</p>\n",
       "</div>"
      ],
      "text/plain": [
       "       Label id\n",
       "0        138982\n",
       "1        126637\n",
       "2         20409\n",
       "3         83144\n",
       "4        113209\n",
       "...         ...\n",
       "12475    159925\n",
       "12476    159814\n",
       "12477    116213\n",
       "12478     47471\n",
       "12479     69852\n",
       "\n",
       "[12480 rows x 1 columns]"
      ]
     },
     "execution_count": 49,
     "metadata": {},
     "output_type": "execute_result"
    }
   ],
   "source": [
    "#viewing the dataset\n",
    "df_thirty"
   ]
  },
  {
   "cell_type": "code",
   "execution_count": 53,
   "id": "8b074210",
   "metadata": {},
   "outputs": [],
   "source": [
    "#undersampling the data\n",
    "def under_sample():\n",
    "    \n",
    "    #this function returns the undersampled dataset. It selects all the classes with image count greater than 30\n",
    "    #and undersamples by random selection of 30.\n",
    "    \n",
    "    classes2 = classes\n",
    "    \n",
    "    for i in range(0, len(df_thirty)):\n",
    "        \n",
    "        label_id = df_thirty.iloc[i, 0]\n",
    "        subset = classes2.loc[classes2['landmark_id'] == label_id]\n",
    "        sample = subset.sample(n = 30, random_state = 918)\n",
    "        classes2.drop(classes2[classes2['landmark_id'] == label_id].index, inplace = True)\n",
    "        data = [classes2, sample]\n",
    "        classes2 = pd.concat(data)\n",
    "        \n",
    "    return classes2"
   ]
  },
  {
   "cell_type": "code",
   "execution_count": null,
   "id": "eeb726ed",
   "metadata": {},
   "outputs": [],
   "source": [
    "#calling the function under_sample()\n",
    "classes2 = under_sample()"
   ]
  },
  {
   "cell_type": "markdown",
   "id": "91a968f1",
   "metadata": {},
   "source": [
    "<h2>4. Dropping classes with count of images less than 3 <h2>"
   ]
  },
  {
   "cell_type": "code",
   "execution_count": 21,
   "id": "4c83f4f2",
   "metadata": {},
   "outputs": [],
   "source": [
    "#labels of classes with images less than 3\n",
    "df_two = classes_df[classes_df['Images']<3]['Label id']\n",
    "df_two = pd.DataFrame(df_two)"
   ]
  },
  {
   "cell_type": "code",
   "execution_count": 26,
   "id": "e774280a",
   "metadata": {},
   "outputs": [
    {
     "data": {
      "text/html": [
       "<div>\n",
       "<style scoped>\n",
       "    .dataframe tbody tr th:only-of-type {\n",
       "        vertical-align: middle;\n",
       "    }\n",
       "\n",
       "    .dataframe tbody tr th {\n",
       "        vertical-align: top;\n",
       "    }\n",
       "\n",
       "    .dataframe thead th {\n",
       "        text-align: right;\n",
       "    }\n",
       "</style>\n",
       "<table border=\"1\" class=\"dataframe\">\n",
       "  <thead>\n",
       "    <tr style=\"text-align: right;\">\n",
       "      <th></th>\n",
       "      <th>Label id</th>\n",
       "    </tr>\n",
       "  </thead>\n",
       "  <tbody>\n",
       "    <tr>\n",
       "      <th>76563</th>\n",
       "      <td>90893</td>\n",
       "    </tr>\n",
       "    <tr>\n",
       "      <th>76564</th>\n",
       "      <td>128632</td>\n",
       "    </tr>\n",
       "    <tr>\n",
       "      <th>76565</th>\n",
       "      <td>90932</td>\n",
       "    </tr>\n",
       "    <tr>\n",
       "      <th>76566</th>\n",
       "      <td>161633</td>\n",
       "    </tr>\n",
       "    <tr>\n",
       "      <th>76567</th>\n",
       "      <td>38386</td>\n",
       "    </tr>\n",
       "    <tr>\n",
       "      <th>...</th>\n",
       "      <td>...</td>\n",
       "    </tr>\n",
       "    <tr>\n",
       "      <th>81308</th>\n",
       "      <td>72967</td>\n",
       "    </tr>\n",
       "    <tr>\n",
       "      <th>81309</th>\n",
       "      <td>143694</td>\n",
       "    </tr>\n",
       "    <tr>\n",
       "      <th>81310</th>\n",
       "      <td>24793</td>\n",
       "    </tr>\n",
       "    <tr>\n",
       "      <th>81311</th>\n",
       "      <td>143896</td>\n",
       "    </tr>\n",
       "    <tr>\n",
       "      <th>81312</th>\n",
       "      <td>111405</td>\n",
       "    </tr>\n",
       "  </tbody>\n",
       "</table>\n",
       "<p>4750 rows × 1 columns</p>\n",
       "</div>"
      ],
      "text/plain": [
       "       Label id\n",
       "76563     90893\n",
       "76564    128632\n",
       "76565     90932\n",
       "76566    161633\n",
       "76567     38386\n",
       "...         ...\n",
       "81308     72967\n",
       "81309    143694\n",
       "81310     24793\n",
       "81311    143896\n",
       "81312    111405\n",
       "\n",
       "[4750 rows x 1 columns]"
      ]
     },
     "execution_count": 26,
     "metadata": {},
     "output_type": "execute_result"
    }
   ],
   "source": [
    "#viewing the dataset\n",
    "df_two"
   ]
  },
  {
   "cell_type": "code",
   "execution_count": 28,
   "id": "77d36cd5",
   "metadata": {},
   "outputs": [],
   "source": [
    "#Removing classes with image count less than 2\n",
    "def drop_two():\n",
    "    \n",
    "    #this function returns the dataset after dropping all the classes with images less than 3\n",
    "    \n",
    "    for i in range(0, len(df_two)):\n",
    "        \n",
    "        label_id = df_two.iloc[i, 0]\n",
    "        classes2.drop(classes2[classes2['landmark_id'] == label_id].index, inplace = True)\n",
    "\n",
    "    return classes2"
   ]
  },
  {
   "cell_type": "code",
   "execution_count": null,
   "id": "a71fc858",
   "metadata": {},
   "outputs": [],
   "source": [
    "#calling the function drop_two()\n",
    "under_drop = drop_two()"
   ]
  },
  {
   "cell_type": "code",
   "execution_count": 33,
   "id": "c0d29a16",
   "metadata": {},
   "outputs": [],
   "source": [
    "#saved the dataset under_drop to local machine"
   ]
  },
  {
   "cell_type": "code",
   "execution_count": 34,
   "id": "3ca69125",
   "metadata": {},
   "outputs": [],
   "source": [
    "#importing the dataset under_drop from local machine\n",
    "under_drop = pd.read_csv(\"/Users/seshu/Desktop/Assignment CPSC/under_drop.csv\")"
   ]
  },
  {
   "cell_type": "code",
   "execution_count": 35,
   "id": "451ae362",
   "metadata": {},
   "outputs": [
    {
     "data": {
      "text/html": [
       "<div>\n",
       "<style scoped>\n",
       "    .dataframe tbody tr th:only-of-type {\n",
       "        vertical-align: middle;\n",
       "    }\n",
       "\n",
       "    .dataframe tbody tr th {\n",
       "        vertical-align: top;\n",
       "    }\n",
       "\n",
       "    .dataframe thead th {\n",
       "        text-align: right;\n",
       "    }\n",
       "</style>\n",
       "<table border=\"1\" class=\"dataframe\">\n",
       "  <thead>\n",
       "    <tr style=\"text-align: right;\">\n",
       "      <th></th>\n",
       "      <th>Unnamed: 0</th>\n",
       "      <th>id</th>\n",
       "      <th>landmark_id</th>\n",
       "    </tr>\n",
       "  </thead>\n",
       "  <tbody>\n",
       "    <tr>\n",
       "      <th>0</th>\n",
       "      <td>0</td>\n",
       "      <td>17660ef415d37059</td>\n",
       "      <td>1</td>\n",
       "    </tr>\n",
       "    <tr>\n",
       "      <th>1</th>\n",
       "      <td>1</td>\n",
       "      <td>92b6290d571448f6</td>\n",
       "      <td>1</td>\n",
       "    </tr>\n",
       "    <tr>\n",
       "      <th>2</th>\n",
       "      <td>2</td>\n",
       "      <td>cd41bf948edc0340</td>\n",
       "      <td>1</td>\n",
       "    </tr>\n",
       "    <tr>\n",
       "      <th>3</th>\n",
       "      <td>3</td>\n",
       "      <td>fb09f1e98c6d2f70</td>\n",
       "      <td>1</td>\n",
       "    </tr>\n",
       "    <tr>\n",
       "      <th>4</th>\n",
       "      <td>4</td>\n",
       "      <td>25c9dfc7ea69838d</td>\n",
       "      <td>7</td>\n",
       "    </tr>\n",
       "    <tr>\n",
       "      <th>...</th>\n",
       "      <td>...</td>\n",
       "      <td>...</td>\n",
       "      <td>...</td>\n",
       "    </tr>\n",
       "    <tr>\n",
       "      <th>1040784</th>\n",
       "      <td>547544</td>\n",
       "      <td>ad4dba98d38d2461</td>\n",
       "      <td>69852</td>\n",
       "    </tr>\n",
       "    <tr>\n",
       "      <th>1040785</th>\n",
       "      <td>547524</td>\n",
       "      <td>06d19b43d65a01b9</td>\n",
       "      <td>69852</td>\n",
       "    </tr>\n",
       "    <tr>\n",
       "      <th>1040786</th>\n",
       "      <td>547529</td>\n",
       "      <td>3d5f3c284aa5d2f9</td>\n",
       "      <td>69852</td>\n",
       "    </tr>\n",
       "    <tr>\n",
       "      <th>1040787</th>\n",
       "      <td>547548</td>\n",
       "      <td>c3c96ed6603f673d</td>\n",
       "      <td>69852</td>\n",
       "    </tr>\n",
       "    <tr>\n",
       "      <th>1040788</th>\n",
       "      <td>547541</td>\n",
       "      <td>9bacc98579eb5b74</td>\n",
       "      <td>69852</td>\n",
       "    </tr>\n",
       "  </tbody>\n",
       "</table>\n",
       "<p>1040789 rows × 3 columns</p>\n",
       "</div>"
      ],
      "text/plain": [
       "         Unnamed: 0                id  landmark_id\n",
       "0                 0  17660ef415d37059            1\n",
       "1                 1  92b6290d571448f6            1\n",
       "2                 2  cd41bf948edc0340            1\n",
       "3                 3  fb09f1e98c6d2f70            1\n",
       "4                 4  25c9dfc7ea69838d            7\n",
       "...             ...               ...          ...\n",
       "1040784      547544  ad4dba98d38d2461        69852\n",
       "1040785      547524  06d19b43d65a01b9        69852\n",
       "1040786      547529  3d5f3c284aa5d2f9        69852\n",
       "1040787      547548  c3c96ed6603f673d        69852\n",
       "1040788      547541  9bacc98579eb5b74        69852\n",
       "\n",
       "[1040789 rows x 3 columns]"
      ]
     },
     "execution_count": 35,
     "metadata": {},
     "output_type": "execute_result"
    }
   ],
   "source": [
    "under_drop"
   ]
  },
  {
   "cell_type": "code",
   "execution_count": 36,
   "id": "28748678",
   "metadata": {},
   "outputs": [],
   "source": [
    "#dropping 'Unnamed: 0' column\n",
    "under_drop = under_drop.drop('Unnamed: 0', axis=1)"
   ]
  },
  {
   "cell_type": "code",
   "execution_count": 37,
   "id": "0214a5ab",
   "metadata": {},
   "outputs": [
    {
     "data": {
      "text/html": [
       "<div>\n",
       "<style scoped>\n",
       "    .dataframe tbody tr th:only-of-type {\n",
       "        vertical-align: middle;\n",
       "    }\n",
       "\n",
       "    .dataframe tbody tr th {\n",
       "        vertical-align: top;\n",
       "    }\n",
       "\n",
       "    .dataframe thead th {\n",
       "        text-align: right;\n",
       "    }\n",
       "</style>\n",
       "<table border=\"1\" class=\"dataframe\">\n",
       "  <thead>\n",
       "    <tr style=\"text-align: right;\">\n",
       "      <th></th>\n",
       "      <th>id</th>\n",
       "      <th>landmark_id</th>\n",
       "    </tr>\n",
       "  </thead>\n",
       "  <tbody>\n",
       "    <tr>\n",
       "      <th>0</th>\n",
       "      <td>17660ef415d37059</td>\n",
       "      <td>1</td>\n",
       "    </tr>\n",
       "    <tr>\n",
       "      <th>1</th>\n",
       "      <td>92b6290d571448f6</td>\n",
       "      <td>1</td>\n",
       "    </tr>\n",
       "    <tr>\n",
       "      <th>2</th>\n",
       "      <td>cd41bf948edc0340</td>\n",
       "      <td>1</td>\n",
       "    </tr>\n",
       "    <tr>\n",
       "      <th>3</th>\n",
       "      <td>fb09f1e98c6d2f70</td>\n",
       "      <td>1</td>\n",
       "    </tr>\n",
       "    <tr>\n",
       "      <th>4</th>\n",
       "      <td>25c9dfc7ea69838d</td>\n",
       "      <td>7</td>\n",
       "    </tr>\n",
       "    <tr>\n",
       "      <th>...</th>\n",
       "      <td>...</td>\n",
       "      <td>...</td>\n",
       "    </tr>\n",
       "    <tr>\n",
       "      <th>1040784</th>\n",
       "      <td>ad4dba98d38d2461</td>\n",
       "      <td>69852</td>\n",
       "    </tr>\n",
       "    <tr>\n",
       "      <th>1040785</th>\n",
       "      <td>06d19b43d65a01b9</td>\n",
       "      <td>69852</td>\n",
       "    </tr>\n",
       "    <tr>\n",
       "      <th>1040786</th>\n",
       "      <td>3d5f3c284aa5d2f9</td>\n",
       "      <td>69852</td>\n",
       "    </tr>\n",
       "    <tr>\n",
       "      <th>1040787</th>\n",
       "      <td>c3c96ed6603f673d</td>\n",
       "      <td>69852</td>\n",
       "    </tr>\n",
       "    <tr>\n",
       "      <th>1040788</th>\n",
       "      <td>9bacc98579eb5b74</td>\n",
       "      <td>69852</td>\n",
       "    </tr>\n",
       "  </tbody>\n",
       "</table>\n",
       "<p>1040789 rows × 2 columns</p>\n",
       "</div>"
      ],
      "text/plain": [
       "                       id  landmark_id\n",
       "0        17660ef415d37059            1\n",
       "1        92b6290d571448f6            1\n",
       "2        cd41bf948edc0340            1\n",
       "3        fb09f1e98c6d2f70            1\n",
       "4        25c9dfc7ea69838d            7\n",
       "...                   ...          ...\n",
       "1040784  ad4dba98d38d2461        69852\n",
       "1040785  06d19b43d65a01b9        69852\n",
       "1040786  3d5f3c284aa5d2f9        69852\n",
       "1040787  c3c96ed6603f673d        69852\n",
       "1040788  9bacc98579eb5b74        69852\n",
       "\n",
       "[1040789 rows x 2 columns]"
      ]
     },
     "execution_count": 37,
     "metadata": {},
     "output_type": "execute_result"
    }
   ],
   "source": [
    "#viewing the dataset\n",
    "under_drop"
   ]
  },
  {
   "cell_type": "code",
   "execution_count": 38,
   "id": "49b8529c",
   "metadata": {},
   "outputs": [],
   "source": [
    "#saving the labels in y_train to create weights\n",
    "y_train = under_drop[[\"landmark_id\"]]"
   ]
  },
  {
   "cell_type": "markdown",
   "id": "ee10e559",
   "metadata": {},
   "source": [
    "<h2>5. Preprocessing and loading training images <h2>"
   ]
  },
  {
   "cell_type": "code",
   "execution_count": 43,
   "id": "111f5c97",
   "metadata": {},
   "outputs": [
    {
     "data": {
      "text/html": [
       "<div>\n",
       "<style scoped>\n",
       "    .dataframe tbody tr th:only-of-type {\n",
       "        vertical-align: middle;\n",
       "    }\n",
       "\n",
       "    .dataframe tbody tr th {\n",
       "        vertical-align: top;\n",
       "    }\n",
       "\n",
       "    .dataframe thead th {\n",
       "        text-align: right;\n",
       "    }\n",
       "</style>\n",
       "<table border=\"1\" class=\"dataframe\">\n",
       "  <thead>\n",
       "    <tr style=\"text-align: right;\">\n",
       "      <th></th>\n",
       "      <th>id</th>\n",
       "      <th>landmark_id</th>\n",
       "      <th>path</th>\n",
       "    </tr>\n",
       "  </thead>\n",
       "  <tbody>\n",
       "    <tr>\n",
       "      <th>0</th>\n",
       "      <td>17660ef415d37059</td>\n",
       "      <td>1</td>\n",
       "      <td>/Volumes/T7 Shield/CPSC Google landmark data/1...</td>\n",
       "    </tr>\n",
       "    <tr>\n",
       "      <th>1</th>\n",
       "      <td>92b6290d571448f6</td>\n",
       "      <td>1</td>\n",
       "      <td>/Volumes/T7 Shield/CPSC Google landmark data/9...</td>\n",
       "    </tr>\n",
       "    <tr>\n",
       "      <th>2</th>\n",
       "      <td>cd41bf948edc0340</td>\n",
       "      <td>1</td>\n",
       "      <td>/Volumes/T7 Shield/CPSC Google landmark data/c...</td>\n",
       "    </tr>\n",
       "    <tr>\n",
       "      <th>3</th>\n",
       "      <td>fb09f1e98c6d2f70</td>\n",
       "      <td>1</td>\n",
       "      <td>/Volumes/T7 Shield/CPSC Google landmark data/f...</td>\n",
       "    </tr>\n",
       "    <tr>\n",
       "      <th>4</th>\n",
       "      <td>25c9dfc7ea69838d</td>\n",
       "      <td>7</td>\n",
       "      <td>/Volumes/T7 Shield/CPSC Google landmark data/2...</td>\n",
       "    </tr>\n",
       "    <tr>\n",
       "      <th>...</th>\n",
       "      <td>...</td>\n",
       "      <td>...</td>\n",
       "      <td>...</td>\n",
       "    </tr>\n",
       "    <tr>\n",
       "      <th>1040784</th>\n",
       "      <td>ad4dba98d38d2461</td>\n",
       "      <td>69852</td>\n",
       "      <td>/Volumes/T7 Shield/CPSC Google landmark data/b...</td>\n",
       "    </tr>\n",
       "    <tr>\n",
       "      <th>1040785</th>\n",
       "      <td>06d19b43d65a01b9</td>\n",
       "      <td>69852</td>\n",
       "      <td>/Volumes/T7 Shield/CPSC Google landmark data/d...</td>\n",
       "    </tr>\n",
       "    <tr>\n",
       "      <th>1040786</th>\n",
       "      <td>3d5f3c284aa5d2f9</td>\n",
       "      <td>69852</td>\n",
       "      <td>/Volumes/T7 Shield/CPSC Google landmark data/e...</td>\n",
       "    </tr>\n",
       "    <tr>\n",
       "      <th>1040787</th>\n",
       "      <td>c3c96ed6603f673d</td>\n",
       "      <td>69852</td>\n",
       "      <td>/Volumes/T7 Shield/CPSC Google landmark data/e...</td>\n",
       "    </tr>\n",
       "    <tr>\n",
       "      <th>1040788</th>\n",
       "      <td>9bacc98579eb5b74</td>\n",
       "      <td>69852</td>\n",
       "      <td>/Volumes/T7 Shield/CPSC Google landmark data/f...</td>\n",
       "    </tr>\n",
       "  </tbody>\n",
       "</table>\n",
       "<p>1040789 rows × 3 columns</p>\n",
       "</div>"
      ],
      "text/plain": [
       "                       id  landmark_id  \\\n",
       "0        17660ef415d37059            1   \n",
       "1        92b6290d571448f6            1   \n",
       "2        cd41bf948edc0340            1   \n",
       "3        fb09f1e98c6d2f70            1   \n",
       "4        25c9dfc7ea69838d            7   \n",
       "...                   ...          ...   \n",
       "1040784  ad4dba98d38d2461        69852   \n",
       "1040785  06d19b43d65a01b9        69852   \n",
       "1040786  3d5f3c284aa5d2f9        69852   \n",
       "1040787  c3c96ed6603f673d        69852   \n",
       "1040788  9bacc98579eb5b74        69852   \n",
       "\n",
       "                                                      path  \n",
       "0        /Volumes/T7 Shield/CPSC Google landmark data/1...  \n",
       "1        /Volumes/T7 Shield/CPSC Google landmark data/9...  \n",
       "2        /Volumes/T7 Shield/CPSC Google landmark data/c...  \n",
       "3        /Volumes/T7 Shield/CPSC Google landmark data/f...  \n",
       "4        /Volumes/T7 Shield/CPSC Google landmark data/2...  \n",
       "...                                                    ...  \n",
       "1040784  /Volumes/T7 Shield/CPSC Google landmark data/b...  \n",
       "1040785  /Volumes/T7 Shield/CPSC Google landmark data/d...  \n",
       "1040786  /Volumes/T7 Shield/CPSC Google landmark data/e...  \n",
       "1040787  /Volumes/T7 Shield/CPSC Google landmark data/e...  \n",
       "1040788  /Volumes/T7 Shield/CPSC Google landmark data/f...  \n",
       "\n",
       "[1040789 rows x 3 columns]"
      ]
     },
     "execution_count": 43,
     "metadata": {},
     "output_type": "execute_result"
    }
   ],
   "source": [
    "#preprocessing the dataset under_drop before loading images\n",
    "\n",
    "#saving the common path in a variable PATH\n",
    "PATH = '/Volumes/T7 Shield/CPSC Google landmark data'\n",
    "\n",
    "#adding a new column named path which saves path for each image\n",
    "under_drop['path'] = PATH + \"/\" + classes.id.str[0] + \"/\" + classes.id.str[1] + \"/\" + classes.id.str[2] + \"/\" + classes.id + \".jpg\"\n",
    "under_drop"
   ]
  },
  {
   "cell_type": "code",
   "execution_count": 45,
   "id": "d2ef6592",
   "metadata": {
    "scrolled": false
   },
   "outputs": [
    {
     "data": {
      "text/html": [
       "<div>\n",
       "<style scoped>\n",
       "    .dataframe tbody tr th:only-of-type {\n",
       "        vertical-align: middle;\n",
       "    }\n",
       "\n",
       "    .dataframe tbody tr th {\n",
       "        vertical-align: top;\n",
       "    }\n",
       "\n",
       "    .dataframe thead th {\n",
       "        text-align: right;\n",
       "    }\n",
       "</style>\n",
       "<table border=\"1\" class=\"dataframe\">\n",
       "  <thead>\n",
       "    <tr style=\"text-align: right;\">\n",
       "      <th></th>\n",
       "      <th>id</th>\n",
       "      <th>landmark_id</th>\n",
       "      <th>path</th>\n",
       "    </tr>\n",
       "  </thead>\n",
       "  <tbody>\n",
       "    <tr>\n",
       "      <th>0</th>\n",
       "      <td>17660ef415d37059</td>\n",
       "      <td>1</td>\n",
       "      <td>/Volumes/T7 Shield/CPSC Google landmark data/1...</td>\n",
       "    </tr>\n",
       "    <tr>\n",
       "      <th>1</th>\n",
       "      <td>92b6290d571448f6</td>\n",
       "      <td>1</td>\n",
       "      <td>/Volumes/T7 Shield/CPSC Google landmark data/9...</td>\n",
       "    </tr>\n",
       "    <tr>\n",
       "      <th>2</th>\n",
       "      <td>cd41bf948edc0340</td>\n",
       "      <td>1</td>\n",
       "      <td>/Volumes/T7 Shield/CPSC Google landmark data/c...</td>\n",
       "    </tr>\n",
       "    <tr>\n",
       "      <th>3</th>\n",
       "      <td>fb09f1e98c6d2f70</td>\n",
       "      <td>1</td>\n",
       "      <td>/Volumes/T7 Shield/CPSC Google landmark data/f...</td>\n",
       "    </tr>\n",
       "    <tr>\n",
       "      <th>4</th>\n",
       "      <td>25c9dfc7ea69838d</td>\n",
       "      <td>7</td>\n",
       "      <td>/Volumes/T7 Shield/CPSC Google landmark data/2...</td>\n",
       "    </tr>\n",
       "    <tr>\n",
       "      <th>...</th>\n",
       "      <td>...</td>\n",
       "      <td>...</td>\n",
       "      <td>...</td>\n",
       "    </tr>\n",
       "    <tr>\n",
       "      <th>1040784</th>\n",
       "      <td>ad4dba98d38d2461</td>\n",
       "      <td>69852</td>\n",
       "      <td>/Volumes/T7 Shield/CPSC Google landmark data/b...</td>\n",
       "    </tr>\n",
       "    <tr>\n",
       "      <th>1040785</th>\n",
       "      <td>06d19b43d65a01b9</td>\n",
       "      <td>69852</td>\n",
       "      <td>/Volumes/T7 Shield/CPSC Google landmark data/d...</td>\n",
       "    </tr>\n",
       "    <tr>\n",
       "      <th>1040786</th>\n",
       "      <td>3d5f3c284aa5d2f9</td>\n",
       "      <td>69852</td>\n",
       "      <td>/Volumes/T7 Shield/CPSC Google landmark data/e...</td>\n",
       "    </tr>\n",
       "    <tr>\n",
       "      <th>1040787</th>\n",
       "      <td>c3c96ed6603f673d</td>\n",
       "      <td>69852</td>\n",
       "      <td>/Volumes/T7 Shield/CPSC Google landmark data/e...</td>\n",
       "    </tr>\n",
       "    <tr>\n",
       "      <th>1040788</th>\n",
       "      <td>9bacc98579eb5b74</td>\n",
       "      <td>69852</td>\n",
       "      <td>/Volumes/T7 Shield/CPSC Google landmark data/f...</td>\n",
       "    </tr>\n",
       "  </tbody>\n",
       "</table>\n",
       "<p>1040789 rows × 3 columns</p>\n",
       "</div>"
      ],
      "text/plain": [
       "                       id landmark_id  \\\n",
       "0        17660ef415d37059           1   \n",
       "1        92b6290d571448f6           1   \n",
       "2        cd41bf948edc0340           1   \n",
       "3        fb09f1e98c6d2f70           1   \n",
       "4        25c9dfc7ea69838d           7   \n",
       "...                   ...         ...   \n",
       "1040784  ad4dba98d38d2461       69852   \n",
       "1040785  06d19b43d65a01b9       69852   \n",
       "1040786  3d5f3c284aa5d2f9       69852   \n",
       "1040787  c3c96ed6603f673d       69852   \n",
       "1040788  9bacc98579eb5b74       69852   \n",
       "\n",
       "                                                      path  \n",
       "0        /Volumes/T7 Shield/CPSC Google landmark data/1...  \n",
       "1        /Volumes/T7 Shield/CPSC Google landmark data/9...  \n",
       "2        /Volumes/T7 Shield/CPSC Google landmark data/c...  \n",
       "3        /Volumes/T7 Shield/CPSC Google landmark data/f...  \n",
       "4        /Volumes/T7 Shield/CPSC Google landmark data/2...  \n",
       "...                                                    ...  \n",
       "1040784  /Volumes/T7 Shield/CPSC Google landmark data/b...  \n",
       "1040785  /Volumes/T7 Shield/CPSC Google landmark data/d...  \n",
       "1040786  /Volumes/T7 Shield/CPSC Google landmark data/e...  \n",
       "1040787  /Volumes/T7 Shield/CPSC Google landmark data/e...  \n",
       "1040788  /Volumes/T7 Shield/CPSC Google landmark data/f...  \n",
       "\n",
       "[1040789 rows x 3 columns]"
      ]
     },
     "execution_count": 45,
     "metadata": {},
     "output_type": "execute_result"
    }
   ],
   "source": [
    "#ensuring labels are of string type\n",
    "under_drop['landmark_id'] = under_drop['landmark_id'].astype(str)\n",
    "under_drop"
   ]
  },
  {
   "cell_type": "code",
   "execution_count": 177,
   "id": "b152d2a1",
   "metadata": {},
   "outputs": [
    {
     "name": "stdout",
     "output_type": "stream",
     "text": [
      "Found 1040789 validated image filenames belonging to 76563 classes.\n"
     ]
    }
   ],
   "source": [
    "batch_size = 32\n",
    "target_shape=(192,192)\n",
    "\n",
    "datagen = ImageDataGenerator(\n",
    "    rescale=1./255,\n",
    "    shear_range=0.2,\n",
    "    rotation_range=30,\n",
    "    width_shift_range=0.2,\n",
    "    height_shift_range=0.2,\n",
    "    zoom_range=0.2,\n",
    "    horizontal_flip=True,\n",
    "    fill_mode='nearest')\n",
    "\n",
    "train_generator = datagen.flow_from_dataframe(\n",
    "        dataframe = under_drop,\n",
    "        x_col = \"path\",\n",
    "        y_col = \"label\",\n",
    "        target_size = target_shape,\n",
    "        class_mode = \"sparse\",\n",
    "        batch_size = batch_size\n",
    ")"
   ]
  },
  {
   "cell_type": "markdown",
   "id": "d51ee6f6",
   "metadata": {},
   "source": [
    "<h2>6. Computing weightages for the classes <h2>"
   ]
  },
  {
   "cell_type": "code",
   "execution_count": null,
   "id": "98f67c0b",
   "metadata": {},
   "outputs": [],
   "source": [
    "#generating class weights based on training data\n",
    "counter = Counter(train_generator.classes)                          \n",
    "max_val = float(max(counter.values()))       \n",
    "class_weights = {class_id : max_val/num_images for class_id, num_images in counter.items()}  "
   ]
  },
  {
   "cell_type": "markdown",
   "id": "8cc32326",
   "metadata": {},
   "source": [
    "<h2> 7. Defining function for Image Augmentation <h2>  "
   ]
  },
  {
   "cell_type": "code",
   "execution_count": 23,
   "id": "1ee004bf",
   "metadata": {},
   "outputs": [
    {
     "name": "stderr",
     "output_type": "stream",
     "text": [
      "2022-08-11 00:08:10.217484: I tensorflow/core/platform/cpu_feature_guard.cc:193] This TensorFlow binary is optimized with oneAPI Deep Neural Network Library (oneDNN) to use the following CPU instructions in performance-critical operations:  AVX2 FMA\n",
      "To enable them in other operations, rebuild TensorFlow with the appropriate compiler flags.\n"
     ]
    }
   ],
   "source": [
    "data_augmentation = keras.Sequential(\n",
    "  [\n",
    "    layers.experimental.preprocessing.RandomFlip(\"horizontal\", \n",
    "                                                 input_shape=(192, \n",
    "                                                              192,\n",
    "                                                              3)),\n",
    "    layers.experimental.preprocessing.RandomRotation(0.1),\n",
    "    layers.experimental.preprocessing.RandomZoom(0.1),\n",
    "  ]\n",
    ")\n"
   ]
  },
  {
   "cell_type": "markdown",
   "id": "b4126710",
   "metadata": {},
   "source": [
    "<h2>Approach 1 : model building<h2>"
   ]
  },
  {
   "cell_type": "markdown",
   "id": "09c8b043",
   "metadata": {},
   "source": [
    "<h2>8. Creating a CNN model from basics and training on the training data. <h2>"
   ]
  },
  {
   "cell_type": "code",
   "execution_count": 31,
   "id": "56a3f3c4",
   "metadata": {},
   "outputs": [
    {
     "name": "stdout",
     "output_type": "stream",
     "text": [
      "Model: \"sequential_1\"\n",
      "_________________________________________________________________\n",
      " Layer (type)                Output Shape              Param #   \n",
      "=================================================================\n",
      " sequential (Sequential)     (None, 192, 192, 3)       0         \n",
      "                                                                 \n",
      " conv2d (Conv2D)             (None, 192, 192, 16)      448       \n",
      "                                                                 \n",
      " max_pooling2d (MaxPooling2D  (None, 96, 96, 16)       0         \n",
      " )                                                               \n",
      "                                                                 \n",
      " conv2d_1 (Conv2D)           (None, 96, 96, 32)        4640      \n",
      "                                                                 \n",
      " max_pooling2d_1 (MaxPooling  (None, 48, 48, 32)       0         \n",
      " 2D)                                                             \n",
      "                                                                 \n",
      " conv2d_2 (Conv2D)           (None, 48, 48, 64)        18496     \n",
      "                                                                 \n",
      " max_pooling2d_2 (MaxPooling  (None, 24, 24, 64)       0         \n",
      " 2D)                                                             \n",
      "                                                                 \n",
      " dropout (Dropout)           (None, 24, 24, 64)        0         \n",
      "                                                                 \n",
      " flatten (Flatten)           (None, 36864)             0         \n",
      "                                                                 \n",
      " dense (Dense)               (None, 128)               4718720   \n",
      "                                                                 \n",
      " dense_1 (Dense)             (None, 256)               33024     \n",
      "                                                                 \n",
      " dropout_1 (Dropout)         (None, 256)               0         \n",
      "                                                                 \n",
      " dense_2 (Dense)             (None, 76563)             19676691  \n",
      "                                                                 \n",
      "=================================================================\n",
      "Total params: 24,452,019\n",
      "Trainable params: 24,452,019\n",
      "Non-trainable params: 0\n",
      "_________________________________________________________________\n"
     ]
    }
   ],
   "source": [
    "model = Sequential()\n",
    "\n",
    "model.add(data_augmentation)\n",
    "model.add(Conv2D(16, kernel_size=(3, 3), padding = 'same', activation = 'LeakyReLU', input_shape = (192, 192, 3)))\n",
    "model.add(MaxPooling2D(pool_size=(2, 2)))\n",
    "\n",
    "model.add(Conv2D(32, kernel_size=(3, 3), padding = 'same', activation = 'LeakyReLU'))\n",
    "model.add(MaxPooling2D(pool_size=(2, 2)))\n",
    "\n",
    "model.add(Conv2D(64, kernel_size=(3, 3), padding = 'same', activation = 'LeakyReLU'))\n",
    "model.add(MaxPooling2D(pool_size=(2, 2)))\n",
    "\n",
    "model.add(Dropout(0.1))\n",
    "\n",
    "model.add(Flatten())\n",
    "\n",
    "model.add(Dense(128, activation='LeakyReLU'))\n",
    "\n",
    "model.add(Dense(256, activation='LeakyReLU'))\n",
    "\n",
    "model.add(Dropout(0.1))\n",
    "\n",
    "model.add(Dense(76563 , activation='softmax'))\n",
    "    \n",
    "    \n",
    "model.summary()"
   ]
  },
  {
   "cell_type": "code",
   "execution_count": null,
   "id": "82f8b94e",
   "metadata": {},
   "outputs": [],
   "source": [
    "#setting the hyperparameters for the model\n",
    "model.compile(optimizer=\"adam\", loss=\"categorical_crossentropy\", metrics=['categorical_accuracy'])"
   ]
  },
  {
   "cell_type": "code",
   "execution_count": 153,
   "id": "a0644f86",
   "metadata": {},
   "outputs": [
    {
     "name": "stdout",
     "output_type": "stream",
     "text": [
      "29272/29272 [==============================] - 47207s 2s/step - loss: 11.1988 - Accuracy: 5.5515e-05 - val_loss: 17.7632 - val_Accuracy: 0.0000e+00\n"
     ]
    },
    {
     "data": {
      "text/plain": [
       "<keras.callbacks.History at 0x7fb2a795b700>"
      ]
     },
     "execution_count": 153,
     "metadata": {},
     "output_type": "execute_result"
    }
   ],
   "source": [
    "#fitting the model\n",
    "model.fit(train_generator, \n",
    "            epochs=1, \n",
    "            steps_per_epoch=train_generator.samples//batch_size, \n",
    "            validation_data = validation_generator,\n",
    "            validation_steps=validation_generator.samples//batch_size)\n",
    "            class_weight = class_weights\n",
    "            )"
   ]
  },
  {
   "cell_type": "markdown",
   "id": "34b14ce4",
   "metadata": {},
   "source": [
    "<h2>Approach 2 : Using pre trained model<h2>"
   ]
  },
  {
   "cell_type": "markdown",
   "id": "ef1c5dde",
   "metadata": {},
   "source": [
    "<h2>9. Loading training data and validation data<h2>"
   ]
  },
  {
   "cell_type": "code",
   "execution_count": 19,
   "id": "91b7de3a",
   "metadata": {},
   "outputs": [
    {
     "name": "stdout",
     "output_type": "stream",
     "text": [
      "Found 936711 validated image filenames belonging to 76563 classes.\n",
      "Found 104078 validated image filenames belonging to 76563 classes.\n"
     ]
    }
   ],
   "source": [
    "#loading the data using ImageDataGenerator\n",
    "batch_size = 32\n",
    "target_shape=(192,192)\n",
    "\n",
    "datagen = ImageDataGenerator(\n",
    "    rescale=1./255,\n",
    "    shear_range=0.2,\n",
    "    rotation_range=30,\n",
    "    width_shift_range=0.2,\n",
    "    height_shift_range=0.2,\n",
    "    zoom_range=0.2,\n",
    "    horizontal_flip=True,\n",
    "    validation_split=0.1,\n",
    "    fill_mode='nearest')\n",
    "\n",
    "train_generator = datagen.flow_from_dataframe(\n",
    "        dataframe = under_drop,\n",
    "        x_col = \"path\",\n",
    "        y_col = \"label\",\n",
    "        target_size = target_shape,\n",
    "        color_mode = \"rgb\",\n",
    "        class_mode = \"sparse\",\n",
    "        batch_size = batch_size,\n",
    "        subset = 'training'\n",
    ")\n",
    "\n",
    "validation_generator = datagen.flow_from_dataframe(\n",
    "        dataframe = under_drop,\n",
    "        x_col = \"path\",\n",
    "        y_col = \"label\",\n",
    "        target_size = target_shape,\n",
    "        color_mode = \"rgb\",\n",
    "        class_mode = \"sparse\",\n",
    "        batch_size = batch_size,\n",
    "        subset = 'validation'\n",
    ")"
   ]
  },
  {
   "cell_type": "markdown",
   "id": "215edb98",
   "metadata": {},
   "source": [
    "<h2>10. Training on resentv2 model<h2>"
   ]
  },
  {
   "cell_type": "code",
   "execution_count": 24,
   "id": "428c65c7",
   "metadata": {},
   "outputs": [
    {
     "name": "stdout",
     "output_type": "stream",
     "text": [
      "Downloading data from https://storage.googleapis.com/tensorflow/keras-applications/resnet/resnet50v2_weights_tf_dim_ordering_tf_kernels_notop.h5\n",
      "94668760/94668760 [==============================] - 9s 0us/step\n"
     ]
    }
   ],
   "source": [
    "#training using renet50v2 model\n",
    "resnet = Sequential()\n",
    "\n",
    "pre_model = tf.keras.applications.ResNet50V2(\n",
    "    include_top = False,\n",
    "    input_shape = (192, 192, 3),\n",
    "    pooling = 'max',\n",
    "    weights = 'imagenet',\n",
    "    classes= 76563)\n",
    "\n",
    "for layer in pre_model.layers:\n",
    "    layer.trainable = False\n",
    "\n",
    "resnet.add(data_augmentation)\n",
    "resnet.add(pre_model)\n",
    "resnet.add(Flatten())\n",
    "resnet.add(Dense(256, activation='LeakyReLU'))\n",
    "resnet.add(Dense(512, activation='LeakyReLU'))\n",
    "resnet.add(Dense(76563 , activation='softmax'))"
   ]
  },
  {
   "cell_type": "code",
   "execution_count": 28,
   "id": "f316cdb7",
   "metadata": {},
   "outputs": [
    {
     "name": "stdout",
     "output_type": "stream",
     "text": [
      "Model: \"sequential_1\"\n",
      "_________________________________________________________________\n",
      " Layer (type)                Output Shape              Param #   \n",
      "=================================================================\n",
      " sequential (Sequential)     (None, 192, 192, 3)       0         \n",
      "                                                                 \n",
      " resnet50v2 (Functional)     (None, 2048)              23564800  \n",
      "                                                                 \n",
      " flatten (Flatten)           (None, 2048)              0         \n",
      "                                                                 \n",
      " dense (Dense)               (None, 256)               524544    \n",
      "                                                                 \n",
      " dense_1 (Dense)             (None, 512)               131584    \n",
      "                                                                 \n",
      " dropout (Dropout)           (None, 512)               0         \n",
      "                                                                 \n",
      " dense_2 (Dense)             (None, 76563)             39276819  \n",
      "                                                                 \n",
      "=================================================================\n",
      "Total params: 63,497,747\n",
      "Trainable params: 39,932,947\n",
      "Non-trainable params: 23,564,800\n",
      "_________________________________________________________________\n"
     ]
    }
   ],
   "source": [
    "#summary of the model\n",
    "resnet.summary()"
   ]
  },
  {
   "cell_type": "code",
   "execution_count": 29,
   "id": "e50f1361",
   "metadata": {},
   "outputs": [],
   "source": [
    "#setting hyperparameters\n",
    "resnet.compile(optimizer=\"adam\", loss=\"sparse_categorical_crossentropy\", metrics=['Accuracy'])"
   ]
  },
  {
   "cell_type": "code",
   "execution_count": 31,
   "id": "28997ad6",
   "metadata": {},
   "outputs": [
    {
     "name": "stdout",
     "output_type": "stream",
     "text": [
      "Epoch 1/15\n",
      "1500/1500 [==============================] - 2126s 1s/step - loss: 11.7066 - Accuracy: 1.2500e-04 - val_loss: 12.1300 - val_Accuracy: 0.0000e+00\n",
      "Epoch 2/15\n",
      "1500/1500 [==============================] - 2099s 1s/step - loss: 11.6830 - Accuracy: 3.3333e-04 - val_loss: 11.9237 - val_Accuracy: 0.0000e+00\n",
      "Epoch 3/15\n",
      "1500/1500 [==============================] - 2145s 1s/step - loss: 11.5805 - Accuracy: 7.5000e-04 - val_loss: 13.9055 - val_Accuracy: 0.0000e+00\n",
      "Epoch 4/15\n",
      "1500/1500 [==============================] - 2161s 1s/step - loss: 11.5243 - Accuracy: 0.0010 - val_loss: 14.1211 - val_Accuracy: 0.0000e+00\n",
      "Epoch 5/15\n",
      "1500/1500 [==============================] - 2154s 1s/step - loss: 11.4913 - Accuracy: 0.0010 - val_loss: 14.8384 - val_Accuracy: 0.0000e+00\n",
      "Epoch 6/15\n",
      "1500/1500 [==============================] - 2157s 1s/step - loss: 11.4846 - Accuracy: 0.0013 - val_loss: 15.3554 - val_Accuracy: 0.0000e+00\n",
      "Epoch 7/15\n",
      "1500/1500 [==============================] - 2162s 1s/step - loss: 11.4674 - Accuracy: 0.0012 - val_loss: 15.5624 - val_Accuracy: 0.0000e+00\n",
      "Epoch 8/15\n",
      "1500/1500 [==============================] - 2171s 1s/step - loss: 11.4755 - Accuracy: 0.0014 - val_loss: 16.8332 - val_Accuracy: 0.0000e+00\n",
      "Epoch 9/15\n",
      "1500/1500 [==============================] - 2178s 1s/step - loss: 11.4666 - Accuracy: 0.0011 - val_loss: 16.9853 - val_Accuracy: 0.0000e+00\n",
      "Epoch 10/15\n",
      "1500/1500 [==============================] - 2167s 1s/step - loss: 11.4628 - Accuracy: 0.0014 - val_loss: 17.0386 - val_Accuracy: 0.0000e+00\n",
      "Epoch 11/15\n",
      "1500/1500 [==============================] - 2185s 1s/step - loss: 11.4745 - Accuracy: 0.0015 - val_loss: 17.5883 - val_Accuracy: 0.0000e+00\n",
      "Epoch 12/15\n",
      "1500/1500 [==============================] - 2199s 1s/step - loss: 11.4630 - Accuracy: 0.0014 - val_loss: 18.2118 - val_Accuracy: 0.0000e+00\n",
      "Epoch 13/15\n",
      "1500/1500 [==============================] - 2182s 1s/step - loss: 11.4712 - Accuracy: 0.0014 - val_loss: 18.0386 - val_Accuracy: 0.0000e+00\n",
      "Epoch 14/15\n",
      "1500/1500 [==============================] - 2178s 1s/step - loss: 11.4697 - Accuracy: 0.0013 - val_loss: 18.6607 - val_Accuracy: 0.0000e+00\n",
      "Epoch 15/15\n",
      "1500/1500 [==============================] - 2184s 1s/step - loss: 11.4444 - Accuracy: 0.0017 - val_loss: 18.3397 - val_Accuracy: 0.0000e+00\n"
     ]
    },
    {
     "data": {
      "text/plain": [
       "<keras.callbacks.History at 0x14cd9d80e50>"
      ]
     },
     "execution_count": 31,
     "metadata": {},
     "output_type": "execute_result"
    }
   ],
   "source": [
    "#fitting the model on the data\n",
    "resnet.fit(train_generator, \n",
    "            epochs=15, \n",
    "            steps_per_epoch= 1500, \n",
    "            validation_data = validation_generator,\n",
    "            validation_steps= 300\n",
    "            )"
   ]
  },
  {
   "cell_type": "code",
   "execution_count": null,
   "id": "04d71ae2",
   "metadata": {},
   "outputs": [],
   "source": []
  }
 ],
 "metadata": {
  "kernelspec": {
   "display_name": "Python 3 (ipykernel)",
   "language": "python",
   "name": "python3"
  },
  "language_info": {
   "codemirror_mode": {
    "name": "ipython",
    "version": 3
   },
   "file_extension": ".py",
   "mimetype": "text/x-python",
   "name": "python",
   "nbconvert_exporter": "python",
   "pygments_lexer": "ipython3",
   "version": "3.9.12"
  }
 },
 "nbformat": 4,
 "nbformat_minor": 5
}
